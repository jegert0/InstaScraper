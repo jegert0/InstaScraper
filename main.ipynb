{
 "cells": [
  {
   "cell_type": "code",
   "execution_count": 1,
   "metadata": {},
   "outputs": [],
   "source": [
    "#Selenium imports here\n",
    "from selenium import webdriver\n",
    "from selenium.webdriver.common.keys import Keys\n",
    "from selenium.webdriver.support import expected_conditions as EC\n",
    "from selenium.webdriver.common.by import By\n",
    "from selenium.webdriver.support.wait import WebDriverWait"
   ]
  },
  {
   "cell_type": "code",
   "execution_count": 10,
   "metadata": {},
   "outputs": [],
   "source": [
    "import os\n",
    "import wget\n",
    "from dotenv import load_dotenv\n",
    "load_dotenv(\"credentials.env\")\n",
    "LOGIN = os.getenv(\"LOGIN\")\n",
    "PASSWORD = os.getenv(\"PASSWORD\")"
   ]
  },
  {
   "cell_type": "code",
   "execution_count": 20,
   "metadata": {},
   "outputs": [],
   "source": [
    "driver = webdriver.Chrome()#(\"C:\\\\User\\\\jeger\\\\grams\\\\instaScraper\\\\chromedriver-win64\\\\chromedriver.exe\")\n",
    "driver.get('http://www.instagram.com')"
   ]
  },
  {
   "cell_type": "code",
   "execution_count": 21,
   "metadata": {
    "scrolled": false
   },
   "outputs": [],
   "source": [
    "username = WebDriverWait(driver, 10).until(EC.element_to_be_clickable((By.CSS_SELECTOR, \"input[name='username']\")))\n",
    "password = WebDriverWait(driver, 10).until(EC.element_to_be_clickable((By.CSS_SELECTOR, \"input[name='password']\")))\n",
    "\n",
    "username.clear()\n",
    "password.clear()\n",
    "username.send_keys(str(LOGIN))\n",
    "password.send_keys(str(PASSWORD))\n",
    "\n",
    "button = WebDriverWait(driver, 2).until(EC.element_to_be_clickable((By.CSS_SELECTOR, \"button[type='submit']\"))).click()"
   ]
  },
  {
   "cell_type": "code",
   "execution_count": 22,
   "metadata": {},
   "outputs": [],
   "source": [
    "not_now = WebDriverWait(driver, 10).until(EC.element_to_be_clickable((By.XPATH, '//button[contains(text(), \"Not Now\")]'))).click()\n",
    "#not_now2 = WebDriverWait(driver, 10).until(EC.element_to_be_clickable((By.XPATH, '//button[contains(text(), \"Not Now\")]'))).click()"
   ]
  },
  {
   "cell_type": "code",
   "execution_count": 29,
   "metadata": {},
   "outputs": [
    {
     "name": "stdout",
     "output_type": "stream",
     "text": [
      "[<selenium.webdriver.remote.webelement.WebElement (session=\"df073b53ce5578f513126b960246489d\", element=\"f.111F17EDC85DDB2E5C5EB63C88F46E03.d.C4FC5CB6C18353BAB6DF6C1C20A54E98.e.2599\")>, <selenium.webdriver.remote.webelement.WebElement (session=\"df073b53ce5578f513126b960246489d\", element=\"f.111F17EDC85DDB2E5C5EB63C88F46E03.d.C4FC5CB6C18353BAB6DF6C1C20A54E98.e.2600\")>, <selenium.webdriver.remote.webelement.WebElement (session=\"df073b53ce5578f513126b960246489d\", element=\"f.111F17EDC85DDB2E5C5EB63C88F46E03.d.C4FC5CB6C18353BAB6DF6C1C20A54E98.e.2601\")>, <selenium.webdriver.remote.webelement.WebElement (session=\"df073b53ce5578f513126b960246489d\", element=\"f.111F17EDC85DDB2E5C5EB63C88F46E03.d.C4FC5CB6C18353BAB6DF6C1C20A54E98.e.2602\")>, <selenium.webdriver.remote.webelement.WebElement (session=\"df073b53ce5578f513126b960246489d\", element=\"f.111F17EDC85DDB2E5C5EB63C88F46E03.d.C4FC5CB6C18353BAB6DF6C1C20A54E98.e.2603\")>, <selenium.webdriver.remote.webelement.WebElement (session=\"df073b53ce5578f513126b960246489d\", element=\"f.111F17EDC85DDB2E5C5EB63C88F46E03.d.C4FC5CB6C18353BAB6DF6C1C20A54E98.e.2604\")>, <selenium.webdriver.remote.webelement.WebElement (session=\"df073b53ce5578f513126b960246489d\", element=\"f.111F17EDC85DDB2E5C5EB63C88F46E03.d.C4FC5CB6C18353BAB6DF6C1C20A54E98.e.2605\")>, <selenium.webdriver.remote.webelement.WebElement (session=\"df073b53ce5578f513126b960246489d\", element=\"f.111F17EDC85DDB2E5C5EB63C88F46E03.d.C4FC5CB6C18353BAB6DF6C1C20A54E98.e.2606\")>, <selenium.webdriver.remote.webelement.WebElement (session=\"df073b53ce5578f513126b960246489d\", element=\"f.111F17EDC85DDB2E5C5EB63C88F46E03.d.C4FC5CB6C18353BAB6DF6C1C20A54E98.e.2607\")>, <selenium.webdriver.remote.webelement.WebElement (session=\"df073b53ce5578f513126b960246489d\", element=\"f.111F17EDC85DDB2E5C5EB63C88F46E03.d.C4FC5CB6C18353BAB6DF6C1C20A54E98.e.2608\")>]\n"
     ]
    }
   ],
   "source": [
    "profile = input(\"Please paste the desired insta profile\")\n",
    "driver.get(profile + \"followers\")\n",
    "followers = WebDriverWait(driver, 3).until(EC.presence_of_all_elements_located((By.XPATH, \"//span[contains(@class, '_ap3a _aaco _aacw _aacx _aad7 _aade')]\")))\n",
    "# _ap3a _aaco _aacw _aacx _aad7 _aade is insta class id for profile usernames\n",
    "print(followers)"
   ]
  },
  {
   "cell_type": "code",
   "execution_count": 31,
   "metadata": {},
   "outputs": [],
   "source": [
    "prev_height = -1\n",
    "max_scrolls = 30\n",
    "scroll_count = 0\n",
    "\n",
    "import time\n",
    "\n",
    "while scroll_count < max_scrolls:\n",
    "    driver.execute_script(\"window.scrollTo(0, document.body.scrollHeight);\")\n",
    "    time.sleep(1)  # give some time for new results to load\n",
    "    new_height = driver.execute_script(\"return document.body.scrollHeight\")\n",
    "    if new_height == prev_height:\n",
    "        break\n",
    "    prev_height = new_height\n",
    "    scroll_count += 1"
   ]
  }
 ],
 "metadata": {
  "kernelspec": {
   "display_name": "Python 3 (ipykernel)",
   "language": "python",
   "name": "python3"
  },
  "language_info": {
   "codemirror_mode": {
    "name": "ipython",
    "version": 3
   },
   "file_extension": ".py",
   "mimetype": "text/x-python",
   "name": "python",
   "nbconvert_exporter": "python",
   "pygments_lexer": "ipython3",
   "version": "3.8.10"
  }
 },
 "nbformat": 4,
 "nbformat_minor": 4
}
