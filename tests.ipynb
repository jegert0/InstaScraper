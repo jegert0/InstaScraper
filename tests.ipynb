{
 "cells": [
  {
   "cell_type": "code",
   "execution_count": 2,
   "metadata": {},
   "outputs": [],
   "source": [
    "#Selenium imports here\n",
    "from selenium import webdriver\n",
    "from selenium.webdriver.common.keys import Keys\n",
    "from selenium.webdriver.support import expected_conditions as EC\n",
    "from selenium.webdriver.common.by import By\n",
    "from selenium.webdriver.support.wait import WebDriverWait"
   ]
  },
  {
   "cell_type": "code",
   "execution_count": 3,
   "metadata": {},
   "outputs": [],
   "source": [
    "import os\n",
    "import wget\n",
    "from dotenv import load_dotenv\n",
    "load_dotenv(\"credentials.env\")\n",
    "LOGIN = os.getenv(\"LOGIN\")\n",
    "PASSWORD = os.getenv(\"PASSWORD\")"
   ]
  },
  {
   "cell_type": "code",
   "execution_count": 35,
   "metadata": {},
   "outputs": [],
   "source": [
    "driver = webdriver.Chrome()#(\"C:\\\\User\\\\jeger\\\\grams\\\\instaScraper\\\\chromedriver-win64\\\\chromedriver.exe\")\n",
    "driver.get('http://www.instagram.com')"
   ]
  },
  {
   "cell_type": "code",
   "execution_count": 36,
   "metadata": {
    "scrolled": false
   },
   "outputs": [],
   "source": [
    "username = WebDriverWait(driver, 10).until(EC.element_to_be_clickable((By.CSS_SELECTOR, \"input[name='username']\")))\n",
    "password = WebDriverWait(driver, 10).until(EC.element_to_be_clickable((By.CSS_SELECTOR, \"input[name='password']\")))\n",
    "\n",
    "username.clear()\n",
    "password.clear()\n",
    "username.send_keys(str(LOGIN))\n",
    "password.send_keys(str(PASSWORD))\n",
    "\n",
    "button = WebDriverWait(driver, 2).until(EC.element_to_be_clickable((By.CSS_SELECTOR, \"button[type='submit']\"))).click()"
   ]
  },
  {
   "cell_type": "code",
   "execution_count": 34,
   "metadata": {},
   "outputs": [
    {
     "ename": "TimeoutException",
     "evalue": "Message: \nStacktrace:\n\tGetHandleVerifier [0x00007FF77FCA7072+63090]\n\t(No symbol) [0x00007FF77FC12CC2]\n\t(No symbol) [0x00007FF77FAAEC65]\n\t(No symbol) [0x00007FF77FAF499D]\n\t(No symbol) [0x00007FF77FAF4ADC]\n\t(No symbol) [0x00007FF77FB35B37]\n\t(No symbol) [0x00007FF77FB1701F]\n\t(No symbol) [0x00007FF77FB33412]\n\t(No symbol) [0x00007FF77FB16D83]\n\t(No symbol) [0x00007FF77FAE83A8]\n\t(No symbol) [0x00007FF77FAE9441]\n\tGetHandleVerifier [0x00007FF7800A25CD+4238285]\n\tGetHandleVerifier [0x00007FF7800DF72D+4488493]\n\tGetHandleVerifier [0x00007FF7800D7A0F+4456463]\n\tGetHandleVerifier [0x00007FF77FD805B6+953270]\n\t(No symbol) [0x00007FF77FC1E58F]\n\t(No symbol) [0x00007FF77FC19264]\n\t(No symbol) [0x00007FF77FC1939B]\n\t(No symbol) [0x00007FF77FC09BD4]\n\tBaseThreadInitThunk [0x00007FFB59147344+20]\n\tRtlUserThreadStart [0x00007FFB5ABC26B1+33]\n",
     "output_type": "error",
     "traceback": [
      "\u001b[1;31m---------------------------------------------------------------------------\u001b[0m",
      "\u001b[1;31mTimeoutException\u001b[0m                          Traceback (most recent call last)",
      "Cell \u001b[1;32mIn[34], line 1\u001b[0m\n\u001b[1;32m----> 1\u001b[0m not_now \u001b[38;5;241m=\u001b[39m \u001b[43mWebDriverWait\u001b[49m\u001b[43m(\u001b[49m\u001b[43mdriver\u001b[49m\u001b[43m,\u001b[49m\u001b[43m \u001b[49m\u001b[38;5;241;43m10\u001b[39;49m\u001b[43m)\u001b[49m\u001b[38;5;241;43m.\u001b[39;49m\u001b[43muntil\u001b[49m\u001b[43m(\u001b[49m\u001b[43mEC\u001b[49m\u001b[38;5;241;43m.\u001b[39;49m\u001b[43melement_to_be_clickable\u001b[49m\u001b[43m(\u001b[49m\u001b[43m(\u001b[49m\u001b[43mBy\u001b[49m\u001b[38;5;241;43m.\u001b[39;49m\u001b[43mXPATH\u001b[49m\u001b[43m,\u001b[49m\u001b[43m \u001b[49m\u001b[38;5;124;43m'\u001b[39;49m\u001b[38;5;124;43m//div[contains(text(), \u001b[39;49m\u001b[38;5;124;43m\"\u001b[39;49m\u001b[38;5;124;43mNot now\u001b[39;49m\u001b[38;5;124;43m\"\u001b[39;49m\u001b[38;5;124;43m)]\u001b[39;49m\u001b[38;5;124;43m'\u001b[39;49m\u001b[43m)\u001b[49m\u001b[43m)\u001b[49m\u001b[43m)\u001b[49m\u001b[38;5;241m.\u001b[39mclick()\n\u001b[0;32m      2\u001b[0m not_now2 \u001b[38;5;241m=\u001b[39m WebDriverWait(driver, \u001b[38;5;241m10\u001b[39m)\u001b[38;5;241m.\u001b[39muntil(EC\u001b[38;5;241m.\u001b[39melement_to_be_clickable((By\u001b[38;5;241m.\u001b[39mXPATH, \u001b[38;5;124m'\u001b[39m\u001b[38;5;124m//button[contains(text(), \u001b[39m\u001b[38;5;124m\"\u001b[39m\u001b[38;5;124mNot Now\u001b[39m\u001b[38;5;124m\"\u001b[39m\u001b[38;5;124m)]\u001b[39m\u001b[38;5;124m'\u001b[39m)))\u001b[38;5;241m.\u001b[39mclick()\n",
      "File \u001b[1;32mc:\\Users\\jeger\\grams\\instaScraper\\venv\\lib\\site-packages\\selenium\\webdriver\\support\\wait.py:105\u001b[0m, in \u001b[0;36mWebDriverWait.until\u001b[1;34m(self, method, message)\u001b[0m\n\u001b[0;32m    103\u001b[0m     \u001b[38;5;28;01mif\u001b[39;00m time\u001b[38;5;241m.\u001b[39mmonotonic() \u001b[38;5;241m>\u001b[39m end_time:\n\u001b[0;32m    104\u001b[0m         \u001b[38;5;28;01mbreak\u001b[39;00m\n\u001b[1;32m--> 105\u001b[0m \u001b[38;5;28;01mraise\u001b[39;00m TimeoutException(message, screen, stacktrace)\n",
      "\u001b[1;31mTimeoutException\u001b[0m: Message: \nStacktrace:\n\tGetHandleVerifier [0x00007FF77FCA7072+63090]\n\t(No symbol) [0x00007FF77FC12CC2]\n\t(No symbol) [0x00007FF77FAAEC65]\n\t(No symbol) [0x00007FF77FAF499D]\n\t(No symbol) [0x00007FF77FAF4ADC]\n\t(No symbol) [0x00007FF77FB35B37]\n\t(No symbol) [0x00007FF77FB1701F]\n\t(No symbol) [0x00007FF77FB33412]\n\t(No symbol) [0x00007FF77FB16D83]\n\t(No symbol) [0x00007FF77FAE83A8]\n\t(No symbol) [0x00007FF77FAE9441]\n\tGetHandleVerifier [0x00007FF7800A25CD+4238285]\n\tGetHandleVerifier [0x00007FF7800DF72D+4488493]\n\tGetHandleVerifier [0x00007FF7800D7A0F+4456463]\n\tGetHandleVerifier [0x00007FF77FD805B6+953270]\n\t(No symbol) [0x00007FF77FC1E58F]\n\t(No symbol) [0x00007FF77FC19264]\n\t(No symbol) [0x00007FF77FC1939B]\n\t(No symbol) [0x00007FF77FC09BD4]\n\tBaseThreadInitThunk [0x00007FFB59147344+20]\n\tRtlUserThreadStart [0x00007FFB5ABC26B1+33]\n"
     ]
    }
   ],
   "source": [
    "not_now = WebDriverWait(driver, 10).until(EC.element_to_be_clickable((By.XPATH, '//div[contains(text(), \"Not now\")]'))).click()\n",
    "not_now2 = WebDriverWait(driver, 10).until(EC.element_to_be_clickable((By.XPATH, '//button[contains(text(), \"Not Now\")]'))).click()"
   ]
  },
  {
   "cell_type": "code",
   "execution_count": 29,
   "metadata": {},
   "outputs": [
    {
     "name": "stdout",
     "output_type": "stream",
     "text": [
      "[<selenium.webdriver.remote.webelement.WebElement (session=\"df073b53ce5578f513126b960246489d\", element=\"f.111F17EDC85DDB2E5C5EB63C88F46E03.d.C4FC5CB6C18353BAB6DF6C1C20A54E98.e.2599\")>, <selenium.webdriver.remote.webelement.WebElement (session=\"df073b53ce5578f513126b960246489d\", element=\"f.111F17EDC85DDB2E5C5EB63C88F46E03.d.C4FC5CB6C18353BAB6DF6C1C20A54E98.e.2600\")>, <selenium.webdriver.remote.webelement.WebElement (session=\"df073b53ce5578f513126b960246489d\", element=\"f.111F17EDC85DDB2E5C5EB63C88F46E03.d.C4FC5CB6C18353BAB6DF6C1C20A54E98.e.2601\")>, <selenium.webdriver.remote.webelement.WebElement (session=\"df073b53ce5578f513126b960246489d\", element=\"f.111F17EDC85DDB2E5C5EB63C88F46E03.d.C4FC5CB6C18353BAB6DF6C1C20A54E98.e.2602\")>, <selenium.webdriver.remote.webelement.WebElement (session=\"df073b53ce5578f513126b960246489d\", element=\"f.111F17EDC85DDB2E5C5EB63C88F46E03.d.C4FC5CB6C18353BAB6DF6C1C20A54E98.e.2603\")>, <selenium.webdriver.remote.webelement.WebElement (session=\"df073b53ce5578f513126b960246489d\", element=\"f.111F17EDC85DDB2E5C5EB63C88F46E03.d.C4FC5CB6C18353BAB6DF6C1C20A54E98.e.2604\")>, <selenium.webdriver.remote.webelement.WebElement (session=\"df073b53ce5578f513126b960246489d\", element=\"f.111F17EDC85DDB2E5C5EB63C88F46E03.d.C4FC5CB6C18353BAB6DF6C1C20A54E98.e.2605\")>, <selenium.webdriver.remote.webelement.WebElement (session=\"df073b53ce5578f513126b960246489d\", element=\"f.111F17EDC85DDB2E5C5EB63C88F46E03.d.C4FC5CB6C18353BAB6DF6C1C20A54E98.e.2606\")>, <selenium.webdriver.remote.webelement.WebElement (session=\"df073b53ce5578f513126b960246489d\", element=\"f.111F17EDC85DDB2E5C5EB63C88F46E03.d.C4FC5CB6C18353BAB6DF6C1C20A54E98.e.2607\")>, <selenium.webdriver.remote.webelement.WebElement (session=\"df073b53ce5578f513126b960246489d\", element=\"f.111F17EDC85DDB2E5C5EB63C88F46E03.d.C4FC5CB6C18353BAB6DF6C1C20A54E98.e.2608\")>]\n"
     ]
    }
   ],
   "source": [
    "profile = input(\"Please paste the desired insta profile\")\n",
    "driver.get(profile + \"followers\")\n",
    "followers = WebDriverWait(driver, 3).until(EC.presence_of_all_elements_located((By.XPATH, \"//span[contains(@class, '_ap3a _aaco _aacw _aacx _aad7 _aade')]\")))\n",
    "# _ap3a _aaco _aacw _aacx _aad7 _aade is insta class id for profile usernames\n",
    "print(followers)"
   ]
  },
  {
   "cell_type": "code",
   "execution_count": 30,
   "metadata": {},
   "outputs": [
    {
     "ename": "NoSuchWindowException",
     "evalue": "Message: no such window: target window already closed\nfrom unknown error: web view not found\n  (Session info: chrome=123.0.6312.106)\nStacktrace:\n\tGetHandleVerifier [0x00007FF77FCA7072+63090]\n\t(No symbol) [0x00007FF77FC12CC2]\n\t(No symbol) [0x00007FF77FAAEC65]\n\t(No symbol) [0x00007FF77FA8CA7C]\n\t(No symbol) [0x00007FF77FB1D687]\n\t(No symbol) [0x00007FF77FB32AC1]\n\t(No symbol) [0x00007FF77FB16D83]\n\t(No symbol) [0x00007FF77FAE83A8]\n\t(No symbol) [0x00007FF77FAE9441]\n\tGetHandleVerifier [0x00007FF7800A25CD+4238285]\n\tGetHandleVerifier [0x00007FF7800DF72D+4488493]\n\tGetHandleVerifier [0x00007FF7800D7A0F+4456463]\n\tGetHandleVerifier [0x00007FF77FD805B6+953270]\n\t(No symbol) [0x00007FF77FC1E58F]\n\t(No symbol) [0x00007FF77FC19264]\n\t(No symbol) [0x00007FF77FC1939B]\n\t(No symbol) [0x00007FF77FC09BD4]\n\tBaseThreadInitThunk [0x00007FFB59147344+20]\n\tRtlUserThreadStart [0x00007FFB5ABC26B1+33]\n",
     "output_type": "error",
     "traceback": [
      "\u001b[1;31m---------------------------------------------------------------------------\u001b[0m",
      "\u001b[1;31mNoSuchWindowException\u001b[0m                     Traceback (most recent call last)",
      "Cell \u001b[1;32mIn[30], line 8\u001b[0m\n\u001b[0;32m      5\u001b[0m \u001b[38;5;28;01mimport\u001b[39;00m \u001b[38;5;21;01mtime\u001b[39;00m\n\u001b[0;32m      7\u001b[0m \u001b[38;5;28;01mwhile\u001b[39;00m scroll_count \u001b[38;5;241m<\u001b[39m max_scrolls:\n\u001b[1;32m----> 8\u001b[0m     \u001b[43mdriver\u001b[49m\u001b[38;5;241;43m.\u001b[39;49m\u001b[43mexecute_script\u001b[49m\u001b[43m(\u001b[49m\u001b[38;5;124;43m\"\u001b[39;49m\u001b[38;5;124;43mwindow.scrollTo(0, document.body.scrollHeight);\u001b[39;49m\u001b[38;5;124;43m\"\u001b[39;49m\u001b[43m)\u001b[49m\n\u001b[0;32m      9\u001b[0m     time\u001b[38;5;241m.\u001b[39msleep(\u001b[38;5;241m1\u001b[39m)  \u001b[38;5;66;03m# give some time for new results to load\u001b[39;00m\n\u001b[0;32m     10\u001b[0m     new_height \u001b[38;5;241m=\u001b[39m driver\u001b[38;5;241m.\u001b[39mexecute_script(\u001b[38;5;124m\"\u001b[39m\u001b[38;5;124mreturn document.body.scrollHeight\u001b[39m\u001b[38;5;124m\"\u001b[39m)\n",
      "File \u001b[1;32mc:\\Users\\jeger\\grams\\instaScraper\\venv\\lib\\site-packages\\selenium\\webdriver\\remote\\webdriver.py:407\u001b[0m, in \u001b[0;36mWebDriver.execute_script\u001b[1;34m(self, script, *args)\u001b[0m\n\u001b[0;32m    404\u001b[0m converted_args \u001b[38;5;241m=\u001b[39m \u001b[38;5;28mlist\u001b[39m(args)\n\u001b[0;32m    405\u001b[0m command \u001b[38;5;241m=\u001b[39m Command\u001b[38;5;241m.\u001b[39mW3C_EXECUTE_SCRIPT\n\u001b[1;32m--> 407\u001b[0m \u001b[38;5;28;01mreturn\u001b[39;00m \u001b[38;5;28;43mself\u001b[39;49m\u001b[38;5;241;43m.\u001b[39;49m\u001b[43mexecute\u001b[49m\u001b[43m(\u001b[49m\u001b[43mcommand\u001b[49m\u001b[43m,\u001b[49m\u001b[43m \u001b[49m\u001b[43m{\u001b[49m\u001b[38;5;124;43m\"\u001b[39;49m\u001b[38;5;124;43mscript\u001b[39;49m\u001b[38;5;124;43m\"\u001b[39;49m\u001b[43m:\u001b[49m\u001b[43m \u001b[49m\u001b[43mscript\u001b[49m\u001b[43m,\u001b[49m\u001b[43m \u001b[49m\u001b[38;5;124;43m\"\u001b[39;49m\u001b[38;5;124;43margs\u001b[39;49m\u001b[38;5;124;43m\"\u001b[39;49m\u001b[43m:\u001b[49m\u001b[43m \u001b[49m\u001b[43mconverted_args\u001b[49m\u001b[43m}\u001b[49m\u001b[43m)\u001b[49m[\u001b[38;5;124m\"\u001b[39m\u001b[38;5;124mvalue\u001b[39m\u001b[38;5;124m\"\u001b[39m]\n",
      "File \u001b[1;32mc:\\Users\\jeger\\grams\\instaScraper\\venv\\lib\\site-packages\\selenium\\webdriver\\remote\\webdriver.py:347\u001b[0m, in \u001b[0;36mWebDriver.execute\u001b[1;34m(self, driver_command, params)\u001b[0m\n\u001b[0;32m    345\u001b[0m response \u001b[38;5;241m=\u001b[39m \u001b[38;5;28mself\u001b[39m\u001b[38;5;241m.\u001b[39mcommand_executor\u001b[38;5;241m.\u001b[39mexecute(driver_command, params)\n\u001b[0;32m    346\u001b[0m \u001b[38;5;28;01mif\u001b[39;00m response:\n\u001b[1;32m--> 347\u001b[0m     \u001b[38;5;28;43mself\u001b[39;49m\u001b[38;5;241;43m.\u001b[39;49m\u001b[43merror_handler\u001b[49m\u001b[38;5;241;43m.\u001b[39;49m\u001b[43mcheck_response\u001b[49m\u001b[43m(\u001b[49m\u001b[43mresponse\u001b[49m\u001b[43m)\u001b[49m\n\u001b[0;32m    348\u001b[0m     response[\u001b[38;5;124m\"\u001b[39m\u001b[38;5;124mvalue\u001b[39m\u001b[38;5;124m\"\u001b[39m] \u001b[38;5;241m=\u001b[39m \u001b[38;5;28mself\u001b[39m\u001b[38;5;241m.\u001b[39m_unwrap_value(response\u001b[38;5;241m.\u001b[39mget(\u001b[38;5;124m\"\u001b[39m\u001b[38;5;124mvalue\u001b[39m\u001b[38;5;124m\"\u001b[39m, \u001b[38;5;28;01mNone\u001b[39;00m))\n\u001b[0;32m    349\u001b[0m     \u001b[38;5;28;01mreturn\u001b[39;00m response\n",
      "File \u001b[1;32mc:\\Users\\jeger\\grams\\instaScraper\\venv\\lib\\site-packages\\selenium\\webdriver\\remote\\errorhandler.py:229\u001b[0m, in \u001b[0;36mErrorHandler.check_response\u001b[1;34m(self, response)\u001b[0m\n\u001b[0;32m    227\u001b[0m         alert_text \u001b[38;5;241m=\u001b[39m value[\u001b[38;5;124m\"\u001b[39m\u001b[38;5;124malert\u001b[39m\u001b[38;5;124m\"\u001b[39m]\u001b[38;5;241m.\u001b[39mget(\u001b[38;5;124m\"\u001b[39m\u001b[38;5;124mtext\u001b[39m\u001b[38;5;124m\"\u001b[39m)\n\u001b[0;32m    228\u001b[0m     \u001b[38;5;28;01mraise\u001b[39;00m exception_class(message, screen, stacktrace, alert_text)  \u001b[38;5;66;03m# type: ignore[call-arg]  # mypy is not smart enough here\u001b[39;00m\n\u001b[1;32m--> 229\u001b[0m \u001b[38;5;28;01mraise\u001b[39;00m exception_class(message, screen, stacktrace)\n",
      "\u001b[1;31mNoSuchWindowException\u001b[0m: Message: no such window: target window already closed\nfrom unknown error: web view not found\n  (Session info: chrome=123.0.6312.106)\nStacktrace:\n\tGetHandleVerifier [0x00007FF77FCA7072+63090]\n\t(No symbol) [0x00007FF77FC12CC2]\n\t(No symbol) [0x00007FF77FAAEC65]\n\t(No symbol) [0x00007FF77FA8CA7C]\n\t(No symbol) [0x00007FF77FB1D687]\n\t(No symbol) [0x00007FF77FB32AC1]\n\t(No symbol) [0x00007FF77FB16D83]\n\t(No symbol) [0x00007FF77FAE83A8]\n\t(No symbol) [0x00007FF77FAE9441]\n\tGetHandleVerifier [0x00007FF7800A25CD+4238285]\n\tGetHandleVerifier [0x00007FF7800DF72D+4488493]\n\tGetHandleVerifier [0x00007FF7800D7A0F+4456463]\n\tGetHandleVerifier [0x00007FF77FD805B6+953270]\n\t(No symbol) [0x00007FF77FC1E58F]\n\t(No symbol) [0x00007FF77FC19264]\n\t(No symbol) [0x00007FF77FC1939B]\n\t(No symbol) [0x00007FF77FC09BD4]\n\tBaseThreadInitThunk [0x00007FFB59147344+20]\n\tRtlUserThreadStart [0x00007FFB5ABC26B1+33]\n"
     ]
    }
   ],
   "source": [
    "prev_height = -1\n",
    "max_scrolls = 30\n",
    "scroll_count = 0\n",
    "\n",
    "import time\n",
    "\n",
    "while scroll_count < max_scrolls:\n",
    "    driver.execute_script(\"window.scrollTo(0, document.body.scrollHeight);\")\n",
    "    time.sleep(1)  # give some time for new results to load\n",
    "    new_height = driver.execute_script(\"return document.body.scrollHeight\")\n",
    "    if new_height == prev_height:\n",
    "        break\n",
    "    prev_height = new_height\n",
    "    scroll_count += 1"
   ]
  },
  {
   "cell_type": "code",
   "execution_count": 7,
   "metadata": {},
   "outputs": [
    {
     "name": "stdout",
     "output_type": "stream",
     "text": [
      "['ishaa.r_', 'breezybaby.97', 'lilboatzee', '02eethan', 'kee_reagan04', 'eric_olson1', 'sutton_sire', 'luis.duran27', 'yayakix', 'tyler.verscharen', 'pnel01', 'look_at_pranav']\n"
     ]
    }
   ],
   "source": [
    "#testing to get username\n",
    "#have to been on profile/followers\n",
    "#each instagram username is unique and the profile can be found at instagram.com/username\n",
    "followers = WebDriverWait(driver, 10).until(EC.presence_of_all_elements_located((By.XPATH, \"//span[@class='_ap3a _aaco _aacw _aacx _aad7 _aade']\")))\n",
    "list = []\n",
    "for elem in followers:\n",
    "    list.append(elem.text)\n",
    "print(list)"
   ]
  },
  {
   "cell_type": "code",
   "execution_count": 24,
   "metadata": {},
   "outputs": [
    {
     "name": "stdout",
     "output_type": "stream",
     "text": [
      "901\n"
     ]
    }
   ],
   "source": [
    "#followers are not in their own page but in a dialog box\n",
    "#script finds dialog box element and scroll down\n",
    "\n",
    "dialog_scrolling_element = driver.find_element(By.XPATH, '//div[@class=\"_aano\"]')\n",
    "from selenium.webdriver.common.actions import wheel_input\n",
    "\n",
    "scroll_origin = wheel_input.ScrollOrigin.from_element(dialog_scrolling_element)\n",
    "#h = driver.execute_script(\"return document.documentElement.scrollHeight\")\n",
    "h = driver.execute_script(\"return document.body.scrollHeight\")\n",
    "print(h)\n",
    "from selenium.webdriver.common.action_chains import ActionChains\n",
    "\n",
    "ActionChains(driver)\\\n",
    "    .scroll_from_origin(scroll_origin,0,h)\\\n",
    "    .perform()"
   ]
  },
  {
   "cell_type": "code",
   "execution_count": 32,
   "metadata": {},
   "outputs": [
    {
     "name": "stdout",
     "output_type": "stream",
     "text": [
      "6749\n",
      "13327\n",
      "19893\n",
      "26589\n",
      "33285\n",
      "35854\n"
     ]
    }
   ],
   "source": [
    "#followers are not in their own page but in a dialog box\n",
    "#script finds dialog box element and scroll down\n",
    "\n",
    "dialog_scrolling_element = driver.find_element(By.XPATH, '//div[@class=\"_aano\"]')\n",
    "from selenium.webdriver.common.actions import wheel_input\n",
    "\n",
    "from selenium.webdriver.common.action_chains import ActionChains\n",
    "\n",
    "# max_scrolls = 30\n",
    "# scroll_count = 0\n",
    "\n",
    "#import time\n",
    "\n",
    "# while scroll_count < max_scrolls:\n",
    "#     prev_height = wheel_input.ScrollOrigin.from_element(dialog_scrolling_element)\n",
    "#     ActionChains(driver)\\\n",
    "#     .scroll_from_origin(prev_height,0,10000)\\\n",
    "#     .perform()\n",
    "\n",
    "#     time.sleep(1)  # give some time for new results to load\n",
    "#     new_height = wheel_input.ScrollOrigin.from_element(dialog_scrolling_element)\n",
    "#     if new_height == prev_height:\n",
    "#         break\n",
    "#     prev_height = new_height\n",
    "#     scroll_count += 1"
   ]
  }
 ],
 "metadata": {
  "kernelspec": {
   "display_name": "Python 3 (ipykernel)",
   "language": "python",
   "name": "python3"
  },
  "language_info": {
   "codemirror_mode": {
    "name": "ipython",
    "version": 3
   },
   "file_extension": ".py",
   "mimetype": "text/x-python",
   "name": "python",
   "nbconvert_exporter": "python",
   "pygments_lexer": "ipython3",
   "version": "3.8.10"
  }
 },
 "nbformat": 4,
 "nbformat_minor": 4
}
